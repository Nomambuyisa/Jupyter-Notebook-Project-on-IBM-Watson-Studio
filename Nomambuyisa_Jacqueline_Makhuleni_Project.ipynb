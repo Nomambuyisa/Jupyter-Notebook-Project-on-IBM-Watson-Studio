{
 "cells": [
  {
   "cell_type": "markdown",
   "metadata": {},
   "source": [
    "<center>\n",
    "    <img src=\"https://cf-courses-data.s3.us.cloud-object-storage.appdomain.cloud/IBMDeveloperSkillsNetwork-DS0105EN-SkillsNetwork/labs/Module2/images/SN_web_lightmode.png\" width=\"300\" alt=\"cognitiveclass.ai logo\">\n",
    "</center>\n"
   ]
  },
  {
   "cell_type": "markdown",
   "metadata": {},
   "source": [
    "# My Jupyter Notebook on IBM Watson Studio"
   ]
  },
  {
   "cell_type": "markdown",
   "metadata": {},
   "source": [
    "**Nomambuyisa Jacqueline Makhuleni**\n",
    "\n",
    "Junior Data analyst"
   ]
  },
  {
   "cell_type": "markdown",
   "metadata": {},
   "source": [
    "> *I am interested in data science because I love using data to draw meaningful insights and help build actionable solutions.\n",
    "   I also enjoy working with new technologies and trying out innovative solutions.* "
   ]
  },
  {
   "cell_type": "markdown",
   "metadata": {},
   "source": [
    "### Objectives"
   ]
  },
  {
   "cell_type": "markdown",
   "metadata": {},
   "source": [
    "- Write tittle of notebook\n",
    "- Indicate Authors Name\n",
    "- Write Introduction\n",
    "- List data science languages\n",
    "- List data science libraries\n",
    "- Create a table of data science tools\n",
    "- Write arithmetic expression heading\n",
    "- Write code to Mutiply and add numbers\n",
    "- Convert minutes to hours\n",
    "- Share notebook on github\n",
    "- Take a screenshot of the first page of notebook\n",
    "***"
   ]
  },
  {
   "cell_type": "markdown",
   "metadata": {},
   "source": [
    "### Data science Languages "
   ]
  },
  {
   "cell_type": "markdown",
   "metadata": {},
   "source": [
    "- SQL\n",
    "- R \n",
    "- python\n",
    "- Javascript\n",
    "- Java\n",
    "- MATLB\n",
    "- C++\n",
    "- Julia\n",
    "\n"
   ]
  },
  {
   "cell_type": "markdown",
   "metadata": {},
   "source": [
    "### Data science libraries"
   ]
  },
  {
   "cell_type": "markdown",
   "metadata": {},
   "source": [
    "1. Jupyter\n",
    "2. Numpy\n",
    "3. Tensorflow\n",
    "4. Pytorch\n",
    "5. Keras\n",
    "6. Scrapy\n",
    "7. Pandas\n",
    "8. MatPlotLib\n",
    "9. Sci-kit learn\n",
    "10. Beutiful soap"
   ]
  },
  {
   "cell_type": "markdown",
   "metadata": {},
   "source": [
    "### Data science tools\n"
   ]
  },
  {
   "cell_type": "markdown",
   "metadata": {},
   "source": [
    "|programming Languages|Visualization Tools|Machine learning Tools|BUsiness Intelligence Tools|Data Analysis Tools|Big Data Tools\n",
    "|:------------------  |:-------------------|:--------------------|:--------------------------|:---------------|:---------------|\n",
    "|R                    |Tablue              |Scikit Learn         |Power BI                   |KNIME           |Apache Hadoop   |\n",
    "|Python               |MaTPOTLIB           |TensorFlow           |QlikView                   |SAS             |                |\n",
    "|Scala                |MINITAB             |Rapid Miner          |                           |MatLab          |                |\n",
    "|Julia                |                    |Data Robot           |                           |Apache Spark    |                |\n",
    "\n",
    "\n"
   ]
  },
  {
   "cell_type": "markdown",
   "metadata": {},
   "source": [
    "### Arithmetic expression examples"
   ]
  },
  {
   "cell_type": "code",
   "execution_count": 21,
   "metadata": {
    "scrolled": true
   },
   "outputs": [
    {
     "name": "stdout",
     "output_type": "stream",
     "text": [
      "7\n",
      "10\n"
     ]
    }
   ],
   "source": [
    "x=2\n",
    "y=5\n",
    "print(x+y)\n",
    "print(x* y)"
   ]
  },
  {
   "cell_type": "code",
   "execution_count": 17,
   "metadata": {},
   "outputs": [
    {
     "name": "stdout",
     "output_type": "stream",
     "text": [
      "2 hours!\n"
     ]
    }
   ],
   "source": [
    "minutes = 120\n",
    "hours = int(minutes/60)\n",
    "print(hours , \"hours!\")\n",
    "\n"
   ]
  }
 ],
 "metadata": {
  "kernelspec": {
   "display_name": "Python 3 (ipykernel)",
   "language": "python",
   "name": "python3"
  },
  "language_info": {
   "codemirror_mode": {
    "name": "ipython",
    "version": 3
   },
   "file_extension": ".py",
   "mimetype": "text/x-python",
   "name": "python",
   "nbconvert_exporter": "python",
   "pygments_lexer": "ipython3",
   "version": "3.9.12"
  }
 },
 "nbformat": 4,
 "nbformat_minor": 4
}
